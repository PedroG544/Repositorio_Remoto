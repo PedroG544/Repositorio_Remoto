{
 "cells": [
  {
   "cell_type": "code",
   "execution_count": 1,
   "id": "25200f72-e7c9-4cbb-afb6-454cd73d8554",
   "metadata": {},
   "outputs": [
    {
     "name": "stdout",
     "output_type": "stream",
     "text": [
      "Hello World\n"
     ]
    }
   ],
   "source": [
    "print(\"Hello World\")"
   ]
  },
  {
   "cell_type": "code",
   "execution_count": 2,
   "id": "af88a51b-6e5b-4ee9-90da-e78bb88f73ec",
   "metadata": {},
   "outputs": [],
   "source": [
    "nome = \"Pedro\""
   ]
  },
  {
   "cell_type": "code",
   "execution_count": 4,
   "id": "1b76b7e1-7cc6-4da6-9000-5a7a2d9e3be8",
   "metadata": {},
   "outputs": [],
   "source": [
    "bugFix = True"
   ]
  },
  {
   "cell_type": "code",
   "execution_count": 5,
   "id": "0008cf0e-02e4-4c34-b3b8-5258deb1abe1",
   "metadata": {},
   "outputs": [],
   "source": [
    "Nota = 7"
   ]
  },
  {
   "cell_type": "code",
   "execution_count": null,
   "id": "cc0b2af0-b9bd-47af-a4d4-db831124806a",
   "metadata": {},
   "outputs": [],
   "source": []
  }
 ],
 "metadata": {
  "kernelspec": {
   "display_name": "Python 3 (ipykernel)",
   "language": "python",
   "name": "python3"
  },
  "language_info": {
   "codemirror_mode": {
    "name": "ipython",
    "version": 3
   },
   "file_extension": ".py",
   "mimetype": "text/x-python",
   "name": "python",
   "nbconvert_exporter": "python",
   "pygments_lexer": "ipython3",
   "version": "3.13.0"
  }
 },
 "nbformat": 4,
 "nbformat_minor": 5
}
