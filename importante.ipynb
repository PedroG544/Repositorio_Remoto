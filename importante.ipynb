{
 "cells": [
  {
   "cell_type": "code",
   "execution_count": 1,
   "id": "25200f72-e7c9-4cbb-afb6-454cd73d8554",
   "metadata": {},
   "outputs": [
    {
     "name": "stdout",
     "output_type": "stream",
     "text": [
      "Hello World\n"
     ]
    }
   ],
   "source": [
    "print(\"Hello World\")"
   ]
  },
  {
   "cell_type": "code",
   "execution_count": 2,
   "id": "af88a51b-6e5b-4ee9-90da-e78bb88f73ec",
   "metadata": {},
   "outputs": [],
   "source": [
    "nome = \"Pedro\""
   ]
  },
  {
   "cell_type": "code",
   "execution_count": null,
   "id": "1b76b7e1-7cc6-4da6-9000-5a7a2d9e3be8",
   "metadata": {},
   "outputs": [],
   "source": [
    "bugFix = True"
   ]
  }
 ],
 "metadata": {
  "kernelspec": {
   "display_name": "Python 3 (ipykernel)",
   "language": "python",
   "name": "python3"
  },
  "language_info": {
   "codemirror_mode": {
    "name": "ipython",
    "version": 3
   },
   "file_extension": ".py",
   "mimetype": "text/x-python",
   "name": "python",
   "nbconvert_exporter": "python",
   "pygments_lexer": "ipython3",
   "version": "3.13.0"
  }
 },
 "nbformat": 4,
 "nbformat_minor": 5
}
